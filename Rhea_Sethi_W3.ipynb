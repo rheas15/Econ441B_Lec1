{
  "cells": [
    {
      "cell_type": "markdown",
      "source": [
        "#**Credit Card Fraud Detection**  \n",
        "\n",
        "## By: Rhea Sethi"
      ],
      "metadata": {
        "id": "yyk-ZQaavi86"
      }
    },
    {
      "cell_type": "markdown",
      "metadata": {
        "id": "7ywSRtNI4s5h"
      },
      "source": [
        "# 1.) Import the Credit Card Fraud Data "
      ]
    },
    {
      "cell_type": "code",
      "execution_count": null,
      "metadata": {
        "id": "nsG1QV154GYZ"
      },
      "outputs": [],
      "source": [
        "import pandas as pd\n",
        "from google.colab import drive\n",
        "import matplotlib.pyplot as plt\n",
        "import numpy as np"
      ]
    },
    {
      "cell_type": "code",
      "execution_count": null,
      "metadata": {
        "id": "Iku0T8Ou4Lcu",
        "colab": {
          "base_uri": "https://localhost:8080/"
        },
        "outputId": "58dbc6ce-337c-4525-ae90-68716e51560c"
      },
      "outputs": [
        {
          "output_type": "stream",
          "name": "stdout",
          "text": [
            "Mounted at /content/gdrive/\n"
          ]
        }
      ],
      "source": [
        "drive.mount('/content/gdrive/', force_remount = True)"
      ]
    },
    {
      "cell_type": "code",
      "execution_count": null,
      "metadata": {
        "id": "KJQfo8mz43Kz"
      },
      "outputs": [],
      "source": [
        "df = pd.read_csv(\"/content/gdrive/MyDrive/fraudTest.csv\")"
      ]
    },
    {
      "cell_type": "code",
      "source": [
        "from google.colab import drive\n",
        "drive.mount('/content/drive')"
      ],
      "metadata": {
        "colab": {
          "base_uri": "https://localhost:8080/"
        },
        "id": "P9IrAZLfxLAV",
        "outputId": "176493bb-6eb7-4f42-821c-fbedfa51083e"
      },
      "execution_count": null,
      "outputs": [
        {
          "output_type": "stream",
          "name": "stdout",
          "text": [
            "Mounted at /content/drive\n"
          ]
        }
      ]
    },
    {
      "cell_type": "code",
      "execution_count": null,
      "metadata": {
        "id": "mKWSRv-q98wE",
        "colab": {
          "base_uri": "https://localhost:8080/",
          "height": 518
        },
        "outputId": "8ded6f44-b573-4b84-e5e7-1ce040df6d36"
      },
      "outputs": [
        {
          "output_type": "execute_result",
          "data": {
            "text/plain": [
              "   Unnamed: 0 trans_date_trans_time            cc_num  \\\n",
              "0           0   2020-06-21 12:14:25  2291163933867244   \n",
              "1           1   2020-06-21 12:14:33  3573030041201292   \n",
              "2           2   2020-06-21 12:14:53  3598215285024754   \n",
              "3           3   2020-06-21 12:15:15  3591919803438423   \n",
              "4           4   2020-06-21 12:15:17  3526826139003047   \n",
              "\n",
              "                               merchant        category    amt   first  \\\n",
              "0                 fraud_Kirlin and Sons   personal_care   2.86    Jeff   \n",
              "1                  fraud_Sporer-Keebler   personal_care  29.84  Joanne   \n",
              "2  fraud_Swaniawski, Nitzsche and Welch  health_fitness  41.28  Ashley   \n",
              "3                     fraud_Haley Group        misc_pos  60.05   Brian   \n",
              "4                 fraud_Johnston-Casper          travel   3.19  Nathan   \n",
              "\n",
              "       last gender                       street  ...      lat      long  \\\n",
              "0   Elliott      M            351 Darlene Green  ...  33.9659  -80.9355   \n",
              "1  Williams      F             3638 Marsh Union  ...  40.3207 -110.4360   \n",
              "2     Lopez      F         9333 Valentine Point  ...  40.6729  -73.5365   \n",
              "3  Williams      M  32941 Krystal Mill Apt. 552  ...  28.5697  -80.8191   \n",
              "4    Massey      M     5783 Evan Roads Apt. 465  ...  44.2529  -85.0170   \n",
              "\n",
              "   city_pop                     job         dob  \\\n",
              "0    333497     Mechanical engineer  1968-03-19   \n",
              "1       302  Sales professional, IT  1990-01-17   \n",
              "2     34496       Librarian, public  1970-10-21   \n",
              "3     54767            Set designer  1987-07-25   \n",
              "4      1126      Furniture designer  1955-07-06   \n",
              "\n",
              "                          trans_num   unix_time  merch_lat  merch_long  \\\n",
              "0  2da90c7d74bd46a0caf3777415b3ebd3  1371816865  33.986391  -81.200714   \n",
              "1  324cc204407e99f51b0d6ca0055005e7  1371816873  39.450498 -109.960431   \n",
              "2  c81755dbbbea9d5c77f094348a7579be  1371816893  40.495810  -74.196111   \n",
              "3  2159175b9efe66dc301f149d3d5abf8c  1371816915  28.812398  -80.883061   \n",
              "4  57ff021bd3f328f8738bb535c302a31b  1371816917  44.959148  -85.884734   \n",
              "\n",
              "   is_fraud  \n",
              "0         0  \n",
              "1         0  \n",
              "2         0  \n",
              "3         0  \n",
              "4         0  \n",
              "\n",
              "[5 rows x 23 columns]"
            ],
            "text/html": [
              "\n",
              "  <div id=\"df-52331db1-8193-457e-935e-49d17b72ddb7\">\n",
              "    <div class=\"colab-df-container\">\n",
              "      <div>\n",
              "<style scoped>\n",
              "    .dataframe tbody tr th:only-of-type {\n",
              "        vertical-align: middle;\n",
              "    }\n",
              "\n",
              "    .dataframe tbody tr th {\n",
              "        vertical-align: top;\n",
              "    }\n",
              "\n",
              "    .dataframe thead th {\n",
              "        text-align: right;\n",
              "    }\n",
              "</style>\n",
              "<table border=\"1\" class=\"dataframe\">\n",
              "  <thead>\n",
              "    <tr style=\"text-align: right;\">\n",
              "      <th></th>\n",
              "      <th>Unnamed: 0</th>\n",
              "      <th>trans_date_trans_time</th>\n",
              "      <th>cc_num</th>\n",
              "      <th>merchant</th>\n",
              "      <th>category</th>\n",
              "      <th>amt</th>\n",
              "      <th>first</th>\n",
              "      <th>last</th>\n",
              "      <th>gender</th>\n",
              "      <th>street</th>\n",
              "      <th>...</th>\n",
              "      <th>lat</th>\n",
              "      <th>long</th>\n",
              "      <th>city_pop</th>\n",
              "      <th>job</th>\n",
              "      <th>dob</th>\n",
              "      <th>trans_num</th>\n",
              "      <th>unix_time</th>\n",
              "      <th>merch_lat</th>\n",
              "      <th>merch_long</th>\n",
              "      <th>is_fraud</th>\n",
              "    </tr>\n",
              "  </thead>\n",
              "  <tbody>\n",
              "    <tr>\n",
              "      <th>0</th>\n",
              "      <td>0</td>\n",
              "      <td>2020-06-21 12:14:25</td>\n",
              "      <td>2291163933867244</td>\n",
              "      <td>fraud_Kirlin and Sons</td>\n",
              "      <td>personal_care</td>\n",
              "      <td>2.86</td>\n",
              "      <td>Jeff</td>\n",
              "      <td>Elliott</td>\n",
              "      <td>M</td>\n",
              "      <td>351 Darlene Green</td>\n",
              "      <td>...</td>\n",
              "      <td>33.9659</td>\n",
              "      <td>-80.9355</td>\n",
              "      <td>333497</td>\n",
              "      <td>Mechanical engineer</td>\n",
              "      <td>1968-03-19</td>\n",
              "      <td>2da90c7d74bd46a0caf3777415b3ebd3</td>\n",
              "      <td>1371816865</td>\n",
              "      <td>33.986391</td>\n",
              "      <td>-81.200714</td>\n",
              "      <td>0</td>\n",
              "    </tr>\n",
              "    <tr>\n",
              "      <th>1</th>\n",
              "      <td>1</td>\n",
              "      <td>2020-06-21 12:14:33</td>\n",
              "      <td>3573030041201292</td>\n",
              "      <td>fraud_Sporer-Keebler</td>\n",
              "      <td>personal_care</td>\n",
              "      <td>29.84</td>\n",
              "      <td>Joanne</td>\n",
              "      <td>Williams</td>\n",
              "      <td>F</td>\n",
              "      <td>3638 Marsh Union</td>\n",
              "      <td>...</td>\n",
              "      <td>40.3207</td>\n",
              "      <td>-110.4360</td>\n",
              "      <td>302</td>\n",
              "      <td>Sales professional, IT</td>\n",
              "      <td>1990-01-17</td>\n",
              "      <td>324cc204407e99f51b0d6ca0055005e7</td>\n",
              "      <td>1371816873</td>\n",
              "      <td>39.450498</td>\n",
              "      <td>-109.960431</td>\n",
              "      <td>0</td>\n",
              "    </tr>\n",
              "    <tr>\n",
              "      <th>2</th>\n",
              "      <td>2</td>\n",
              "      <td>2020-06-21 12:14:53</td>\n",
              "      <td>3598215285024754</td>\n",
              "      <td>fraud_Swaniawski, Nitzsche and Welch</td>\n",
              "      <td>health_fitness</td>\n",
              "      <td>41.28</td>\n",
              "      <td>Ashley</td>\n",
              "      <td>Lopez</td>\n",
              "      <td>F</td>\n",
              "      <td>9333 Valentine Point</td>\n",
              "      <td>...</td>\n",
              "      <td>40.6729</td>\n",
              "      <td>-73.5365</td>\n",
              "      <td>34496</td>\n",
              "      <td>Librarian, public</td>\n",
              "      <td>1970-10-21</td>\n",
              "      <td>c81755dbbbea9d5c77f094348a7579be</td>\n",
              "      <td>1371816893</td>\n",
              "      <td>40.495810</td>\n",
              "      <td>-74.196111</td>\n",
              "      <td>0</td>\n",
              "    </tr>\n",
              "    <tr>\n",
              "      <th>3</th>\n",
              "      <td>3</td>\n",
              "      <td>2020-06-21 12:15:15</td>\n",
              "      <td>3591919803438423</td>\n",
              "      <td>fraud_Haley Group</td>\n",
              "      <td>misc_pos</td>\n",
              "      <td>60.05</td>\n",
              "      <td>Brian</td>\n",
              "      <td>Williams</td>\n",
              "      <td>M</td>\n",
              "      <td>32941 Krystal Mill Apt. 552</td>\n",
              "      <td>...</td>\n",
              "      <td>28.5697</td>\n",
              "      <td>-80.8191</td>\n",
              "      <td>54767</td>\n",
              "      <td>Set designer</td>\n",
              "      <td>1987-07-25</td>\n",
              "      <td>2159175b9efe66dc301f149d3d5abf8c</td>\n",
              "      <td>1371816915</td>\n",
              "      <td>28.812398</td>\n",
              "      <td>-80.883061</td>\n",
              "      <td>0</td>\n",
              "    </tr>\n",
              "    <tr>\n",
              "      <th>4</th>\n",
              "      <td>4</td>\n",
              "      <td>2020-06-21 12:15:17</td>\n",
              "      <td>3526826139003047</td>\n",
              "      <td>fraud_Johnston-Casper</td>\n",
              "      <td>travel</td>\n",
              "      <td>3.19</td>\n",
              "      <td>Nathan</td>\n",
              "      <td>Massey</td>\n",
              "      <td>M</td>\n",
              "      <td>5783 Evan Roads Apt. 465</td>\n",
              "      <td>...</td>\n",
              "      <td>44.2529</td>\n",
              "      <td>-85.0170</td>\n",
              "      <td>1126</td>\n",
              "      <td>Furniture designer</td>\n",
              "      <td>1955-07-06</td>\n",
              "      <td>57ff021bd3f328f8738bb535c302a31b</td>\n",
              "      <td>1371816917</td>\n",
              "      <td>44.959148</td>\n",
              "      <td>-85.884734</td>\n",
              "      <td>0</td>\n",
              "    </tr>\n",
              "  </tbody>\n",
              "</table>\n",
              "<p>5 rows × 23 columns</p>\n",
              "</div>\n",
              "      <button class=\"colab-df-convert\" onclick=\"convertToInteractive('df-52331db1-8193-457e-935e-49d17b72ddb7')\"\n",
              "              title=\"Convert this dataframe to an interactive table.\"\n",
              "              style=\"display:none;\">\n",
              "        \n",
              "  <svg xmlns=\"http://www.w3.org/2000/svg\" height=\"24px\"viewBox=\"0 0 24 24\"\n",
              "       width=\"24px\">\n",
              "    <path d=\"M0 0h24v24H0V0z\" fill=\"none\"/>\n",
              "    <path d=\"M18.56 5.44l.94 2.06.94-2.06 2.06-.94-2.06-.94-.94-2.06-.94 2.06-2.06.94zm-11 1L8.5 8.5l.94-2.06 2.06-.94-2.06-.94L8.5 2.5l-.94 2.06-2.06.94zm10 10l.94 2.06.94-2.06 2.06-.94-2.06-.94-.94-2.06-.94 2.06-2.06.94z\"/><path d=\"M17.41 7.96l-1.37-1.37c-.4-.4-.92-.59-1.43-.59-.52 0-1.04.2-1.43.59L10.3 9.45l-7.72 7.72c-.78.78-.78 2.05 0 2.83L4 21.41c.39.39.9.59 1.41.59.51 0 1.02-.2 1.41-.59l7.78-7.78 2.81-2.81c.8-.78.8-2.07 0-2.86zM5.41 20L4 18.59l7.72-7.72 1.47 1.35L5.41 20z\"/>\n",
              "  </svg>\n",
              "      </button>\n",
              "      \n",
              "  <style>\n",
              "    .colab-df-container {\n",
              "      display:flex;\n",
              "      flex-wrap:wrap;\n",
              "      gap: 12px;\n",
              "    }\n",
              "\n",
              "    .colab-df-convert {\n",
              "      background-color: #E8F0FE;\n",
              "      border: none;\n",
              "      border-radius: 50%;\n",
              "      cursor: pointer;\n",
              "      display: none;\n",
              "      fill: #1967D2;\n",
              "      height: 32px;\n",
              "      padding: 0 0 0 0;\n",
              "      width: 32px;\n",
              "    }\n",
              "\n",
              "    .colab-df-convert:hover {\n",
              "      background-color: #E2EBFA;\n",
              "      box-shadow: 0px 1px 2px rgba(60, 64, 67, 0.3), 0px 1px 3px 1px rgba(60, 64, 67, 0.15);\n",
              "      fill: #174EA6;\n",
              "    }\n",
              "\n",
              "    [theme=dark] .colab-df-convert {\n",
              "      background-color: #3B4455;\n",
              "      fill: #D2E3FC;\n",
              "    }\n",
              "\n",
              "    [theme=dark] .colab-df-convert:hover {\n",
              "      background-color: #434B5C;\n",
              "      box-shadow: 0px 1px 3px 1px rgba(0, 0, 0, 0.15);\n",
              "      filter: drop-shadow(0px 1px 2px rgba(0, 0, 0, 0.3));\n",
              "      fill: #FFFFFF;\n",
              "    }\n",
              "  </style>\n",
              "\n",
              "      <script>\n",
              "        const buttonEl =\n",
              "          document.querySelector('#df-52331db1-8193-457e-935e-49d17b72ddb7 button.colab-df-convert');\n",
              "        buttonEl.style.display =\n",
              "          google.colab.kernel.accessAllowed ? 'block' : 'none';\n",
              "\n",
              "        async function convertToInteractive(key) {\n",
              "          const element = document.querySelector('#df-52331db1-8193-457e-935e-49d17b72ddb7');\n",
              "          const dataTable =\n",
              "            await google.colab.kernel.invokeFunction('convertToInteractive',\n",
              "                                                     [key], {});\n",
              "          if (!dataTable) return;\n",
              "\n",
              "          const docLinkHtml = 'Like what you see? Visit the ' +\n",
              "            '<a target=\"_blank\" href=https://colab.research.google.com/notebooks/data_table.ipynb>data table notebook</a>'\n",
              "            + ' to learn more about interactive tables.';\n",
              "          element.innerHTML = '';\n",
              "          dataTable['output_type'] = 'display_data';\n",
              "          await google.colab.output.renderOutput(dataTable, element);\n",
              "          const docLink = document.createElement('div');\n",
              "          docLink.innerHTML = docLinkHtml;\n",
              "          element.appendChild(docLink);\n",
              "        }\n",
              "      </script>\n",
              "    </div>\n",
              "  </div>\n",
              "  "
            ]
          },
          "metadata": {},
          "execution_count": 238
        }
      ],
      "source": [
        "df.head()"
      ]
    },
    {
      "cell_type": "markdown",
      "metadata": {
        "id": "8VsnpGe9-B3p"
      },
      "source": [
        "# 2.) Feature Selection (on top of trans_date_trans)"
      ]
    },
    {
      "cell_type": "markdown",
      "source": [
        "I use trans_date_trans_time, city population, amount of the transaction and gender as features to predict whether a transaction is fraud or not"
      ],
      "metadata": {
        "id": "5KGvcwh6e4Uo"
      }
    },
    {
      "cell_type": "code",
      "execution_count": null,
      "metadata": {
        "id": "1tpCDMW198ym",
        "colab": {
          "base_uri": "https://localhost:8080/",
          "height": 419
        },
        "outputId": "0d8d91c7-0aee-4841-afc5-8394385106ae"
      },
      "outputs": [
        {
          "output_type": "execute_result",
          "data": {
            "text/plain": [
              "       trans_date_trans_time  city_pop     amt gender\n",
              "0        2020-06-21 12:14:25    333497    2.86      M\n",
              "1        2020-06-21 12:14:33       302   29.84      F\n",
              "2        2020-06-21 12:14:53     34496   41.28      F\n",
              "3        2020-06-21 12:15:15     54767   60.05      M\n",
              "4        2020-06-21 12:15:17      1126    3.19      M\n",
              "...                      ...       ...     ...    ...\n",
              "555714   2020-12-31 23:59:07       519   43.77      M\n",
              "555715   2020-12-31 23:59:09     28739  111.84      M\n",
              "555716   2020-12-31 23:59:15      3684   86.88      F\n",
              "555717   2020-12-31 23:59:24       129    7.99      M\n",
              "555718   2020-12-31 23:59:34    116001   38.13      M\n",
              "\n",
              "[555719 rows x 4 columns]"
            ],
            "text/html": [
              "\n",
              "  <div id=\"df-b9e1592a-90a9-45b3-a53d-a2f865472e98\">\n",
              "    <div class=\"colab-df-container\">\n",
              "      <div>\n",
              "<style scoped>\n",
              "    .dataframe tbody tr th:only-of-type {\n",
              "        vertical-align: middle;\n",
              "    }\n",
              "\n",
              "    .dataframe tbody tr th {\n",
              "        vertical-align: top;\n",
              "    }\n",
              "\n",
              "    .dataframe thead th {\n",
              "        text-align: right;\n",
              "    }\n",
              "</style>\n",
              "<table border=\"1\" class=\"dataframe\">\n",
              "  <thead>\n",
              "    <tr style=\"text-align: right;\">\n",
              "      <th></th>\n",
              "      <th>trans_date_trans_time</th>\n",
              "      <th>city_pop</th>\n",
              "      <th>amt</th>\n",
              "      <th>gender</th>\n",
              "    </tr>\n",
              "  </thead>\n",
              "  <tbody>\n",
              "    <tr>\n",
              "      <th>0</th>\n",
              "      <td>2020-06-21 12:14:25</td>\n",
              "      <td>333497</td>\n",
              "      <td>2.86</td>\n",
              "      <td>M</td>\n",
              "    </tr>\n",
              "    <tr>\n",
              "      <th>1</th>\n",
              "      <td>2020-06-21 12:14:33</td>\n",
              "      <td>302</td>\n",
              "      <td>29.84</td>\n",
              "      <td>F</td>\n",
              "    </tr>\n",
              "    <tr>\n",
              "      <th>2</th>\n",
              "      <td>2020-06-21 12:14:53</td>\n",
              "      <td>34496</td>\n",
              "      <td>41.28</td>\n",
              "      <td>F</td>\n",
              "    </tr>\n",
              "    <tr>\n",
              "      <th>3</th>\n",
              "      <td>2020-06-21 12:15:15</td>\n",
              "      <td>54767</td>\n",
              "      <td>60.05</td>\n",
              "      <td>M</td>\n",
              "    </tr>\n",
              "    <tr>\n",
              "      <th>4</th>\n",
              "      <td>2020-06-21 12:15:17</td>\n",
              "      <td>1126</td>\n",
              "      <td>3.19</td>\n",
              "      <td>M</td>\n",
              "    </tr>\n",
              "    <tr>\n",
              "      <th>...</th>\n",
              "      <td>...</td>\n",
              "      <td>...</td>\n",
              "      <td>...</td>\n",
              "      <td>...</td>\n",
              "    </tr>\n",
              "    <tr>\n",
              "      <th>555714</th>\n",
              "      <td>2020-12-31 23:59:07</td>\n",
              "      <td>519</td>\n",
              "      <td>43.77</td>\n",
              "      <td>M</td>\n",
              "    </tr>\n",
              "    <tr>\n",
              "      <th>555715</th>\n",
              "      <td>2020-12-31 23:59:09</td>\n",
              "      <td>28739</td>\n",
              "      <td>111.84</td>\n",
              "      <td>M</td>\n",
              "    </tr>\n",
              "    <tr>\n",
              "      <th>555716</th>\n",
              "      <td>2020-12-31 23:59:15</td>\n",
              "      <td>3684</td>\n",
              "      <td>86.88</td>\n",
              "      <td>F</td>\n",
              "    </tr>\n",
              "    <tr>\n",
              "      <th>555717</th>\n",
              "      <td>2020-12-31 23:59:24</td>\n",
              "      <td>129</td>\n",
              "      <td>7.99</td>\n",
              "      <td>M</td>\n",
              "    </tr>\n",
              "    <tr>\n",
              "      <th>555718</th>\n",
              "      <td>2020-12-31 23:59:34</td>\n",
              "      <td>116001</td>\n",
              "      <td>38.13</td>\n",
              "      <td>M</td>\n",
              "    </tr>\n",
              "  </tbody>\n",
              "</table>\n",
              "<p>555719 rows × 4 columns</p>\n",
              "</div>\n",
              "      <button class=\"colab-df-convert\" onclick=\"convertToInteractive('df-b9e1592a-90a9-45b3-a53d-a2f865472e98')\"\n",
              "              title=\"Convert this dataframe to an interactive table.\"\n",
              "              style=\"display:none;\">\n",
              "        \n",
              "  <svg xmlns=\"http://www.w3.org/2000/svg\" height=\"24px\"viewBox=\"0 0 24 24\"\n",
              "       width=\"24px\">\n",
              "    <path d=\"M0 0h24v24H0V0z\" fill=\"none\"/>\n",
              "    <path d=\"M18.56 5.44l.94 2.06.94-2.06 2.06-.94-2.06-.94-.94-2.06-.94 2.06-2.06.94zm-11 1L8.5 8.5l.94-2.06 2.06-.94-2.06-.94L8.5 2.5l-.94 2.06-2.06.94zm10 10l.94 2.06.94-2.06 2.06-.94-2.06-.94-.94-2.06-.94 2.06-2.06.94z\"/><path d=\"M17.41 7.96l-1.37-1.37c-.4-.4-.92-.59-1.43-.59-.52 0-1.04.2-1.43.59L10.3 9.45l-7.72 7.72c-.78.78-.78 2.05 0 2.83L4 21.41c.39.39.9.59 1.41.59.51 0 1.02-.2 1.41-.59l7.78-7.78 2.81-2.81c.8-.78.8-2.07 0-2.86zM5.41 20L4 18.59l7.72-7.72 1.47 1.35L5.41 20z\"/>\n",
              "  </svg>\n",
              "      </button>\n",
              "      \n",
              "  <style>\n",
              "    .colab-df-container {\n",
              "      display:flex;\n",
              "      flex-wrap:wrap;\n",
              "      gap: 12px;\n",
              "    }\n",
              "\n",
              "    .colab-df-convert {\n",
              "      background-color: #E8F0FE;\n",
              "      border: none;\n",
              "      border-radius: 50%;\n",
              "      cursor: pointer;\n",
              "      display: none;\n",
              "      fill: #1967D2;\n",
              "      height: 32px;\n",
              "      padding: 0 0 0 0;\n",
              "      width: 32px;\n",
              "    }\n",
              "\n",
              "    .colab-df-convert:hover {\n",
              "      background-color: #E2EBFA;\n",
              "      box-shadow: 0px 1px 2px rgba(60, 64, 67, 0.3), 0px 1px 3px 1px rgba(60, 64, 67, 0.15);\n",
              "      fill: #174EA6;\n",
              "    }\n",
              "\n",
              "    [theme=dark] .colab-df-convert {\n",
              "      background-color: #3B4455;\n",
              "      fill: #D2E3FC;\n",
              "    }\n",
              "\n",
              "    [theme=dark] .colab-df-convert:hover {\n",
              "      background-color: #434B5C;\n",
              "      box-shadow: 0px 1px 3px 1px rgba(0, 0, 0, 0.15);\n",
              "      filter: drop-shadow(0px 1px 2px rgba(0, 0, 0, 0.3));\n",
              "      fill: #FFFFFF;\n",
              "    }\n",
              "  </style>\n",
              "\n",
              "      <script>\n",
              "        const buttonEl =\n",
              "          document.querySelector('#df-b9e1592a-90a9-45b3-a53d-a2f865472e98 button.colab-df-convert');\n",
              "        buttonEl.style.display =\n",
              "          google.colab.kernel.accessAllowed ? 'block' : 'none';\n",
              "\n",
              "        async function convertToInteractive(key) {\n",
              "          const element = document.querySelector('#df-b9e1592a-90a9-45b3-a53d-a2f865472e98');\n",
              "          const dataTable =\n",
              "            await google.colab.kernel.invokeFunction('convertToInteractive',\n",
              "                                                     [key], {});\n",
              "          if (!dataTable) return;\n",
              "\n",
              "          const docLinkHtml = 'Like what you see? Visit the ' +\n",
              "            '<a target=\"_blank\" href=https://colab.research.google.com/notebooks/data_table.ipynb>data table notebook</a>'\n",
              "            + ' to learn more about interactive tables.';\n",
              "          element.innerHTML = '';\n",
              "          dataTable['output_type'] = 'display_data';\n",
              "          await google.colab.output.renderOutput(dataTable, element);\n",
              "          const docLink = document.createElement('div');\n",
              "          docLink.innerHTML = docLinkHtml;\n",
              "          element.appendChild(docLink);\n",
              "        }\n",
              "      </script>\n",
              "    </div>\n",
              "  </div>\n",
              "  "
            ]
          },
          "metadata": {},
          "execution_count": 239
        }
      ],
      "source": [
        "df_select = df[['trans_date_trans_time', 'city_pop','amt','gender']] \n",
        "\n",
        "df_select"
      ]
    },
    {
      "cell_type": "markdown",
      "metadata": {
        "id": "lbkpNPyN-Gnk"
      },
      "source": [
        "# 3.) Create a unique variable out of trans_date."
      ]
    },
    {
      "cell_type": "markdown",
      "source": [
        "I create a variable for whether or not a date falls on the weekend (Friday, Saturday, Sunday). Since the overall number of transactions is higher over weekends, it can be argued that more fraud occurs on these days of the week. "
      ],
      "metadata": {
        "id": "e0NJ1vQmfXKH"
      }
    },
    {
      "cell_type": "code",
      "execution_count": null,
      "metadata": {
        "id": "cNu6ysyV988v",
        "colab": {
          "base_uri": "https://localhost:8080/"
        },
        "outputId": "50b67f5e-3e9d-4fa4-ac5d-e755bb8db8ac"
      },
      "outputs": [
        {
          "output_type": "execute_result",
          "data": {
            "text/plain": [
              "str"
            ]
          },
          "metadata": {},
          "execution_count": 240
        }
      ],
      "source": [
        "type(df_select[\"trans_date_trans_time\"][0])"
      ]
    },
    {
      "cell_type": "code",
      "execution_count": null,
      "metadata": {
        "id": "xQE60rwv98_F",
        "colab": {
          "base_uri": "https://localhost:8080/"
        },
        "outputId": "1c87cebc-faaa-4f7d-e9e7-78ac73c681e7"
      },
      "outputs": [
        {
          "output_type": "stream",
          "name": "stderr",
          "text": [
            "<ipython-input-241-6432afe30707>:2: SettingWithCopyWarning: \n",
            "A value is trying to be set on a copy of a slice from a DataFrame.\n",
            "Try using .loc[row_indexer,col_indexer] = value instead\n",
            "\n",
            "See the caveats in the documentation: https://pandas.pydata.org/pandas-docs/stable/user_guide/indexing.html#returning-a-view-versus-a-copy\n",
            "  df_select[\"trans_date_trans_time\"] = pd.to_datetime(df_select[\"trans_date_trans_time\"])\n"
          ]
        }
      ],
      "source": [
        "#Converting type of time column to datetime\n",
        "df_select[\"trans_date_trans_time\"] = pd.to_datetime(df_select[\"trans_date_trans_time\"])"
      ]
    },
    {
      "cell_type": "code",
      "source": [
        "type(df_select[\"trans_date_trans_time\"][0])"
      ],
      "metadata": {
        "colab": {
          "base_uri": "https://localhost:8080/"
        },
        "id": "vPV-PEYE7Q8k",
        "outputId": "41b21277-24de-478c-8ac1-b9b9784df4e8"
      },
      "execution_count": null,
      "outputs": [
        {
          "output_type": "execute_result",
          "data": {
            "text/plain": [
              "pandas._libs.tslibs.timestamps.Timestamp"
            ]
          },
          "metadata": {},
          "execution_count": 242
        }
      ]
    },
    {
      "cell_type": "code",
      "execution_count": null,
      "metadata": {
        "id": "bkfqhq4J99A6",
        "colab": {
          "base_uri": "https://localhost:8080/"
        },
        "outputId": "cd5fc9b8-a8e0-42d6-d8b1-6562968c4ec9"
      },
      "outputs": [
        {
          "output_type": "stream",
          "name": "stderr",
          "text": [
            "<ipython-input-243-eff7f6dc7a43>:2: SettingWithCopyWarning: \n",
            "A value is trying to be set on a copy of a slice from a DataFrame.\n",
            "Try using .loc[row_indexer,col_indexer] = value instead\n",
            "\n",
            "See the caveats in the documentation: https://pandas.pydata.org/pandas-docs/stable/user_guide/indexing.html#returning-a-view-versus-a-copy\n",
            "  df_select['Weekday'] = df_select['trans_date_trans_time'].dt.day_of_week\n"
          ]
        },
        {
          "output_type": "execute_result",
          "data": {
            "text/plain": [
              "array([6, 0, 1, 2, 3, 4, 5])"
            ]
          },
          "metadata": {},
          "execution_count": 243
        }
      ],
      "source": [
        "#Extracting a number for the day of the week from the date\n",
        "df_select['Weekday'] = df_select['trans_date_trans_time'].dt.day_of_week\n",
        "df_select['Weekday'].unique()"
      ]
    },
    {
      "cell_type": "code",
      "execution_count": null,
      "metadata": {
        "id": "D7n_cImg99F3",
        "colab": {
          "base_uri": "https://localhost:8080/",
          "height": 521
        },
        "outputId": "84deee57-0a2e-4801-eec2-506daebbddeb"
      },
      "outputs": [
        {
          "output_type": "stream",
          "name": "stderr",
          "text": [
            "<ipython-input-244-33f95b14541c>:12: SettingWithCopyWarning: \n",
            "A value is trying to be set on a copy of a slice from a DataFrame.\n",
            "Try using .loc[row_indexer,col_indexer] = value instead\n",
            "\n",
            "See the caveats in the documentation: https://pandas.pydata.org/pandas-docs/stable/user_guide/indexing.html#returning-a-view-versus-a-copy\n",
            "  df_select['Weekend_binary']= weekend_binary\n"
          ]
        },
        {
          "output_type": "execute_result",
          "data": {
            "text/plain": [
              "       trans_date_trans_time  city_pop     amt gender  Weekday  Weekend_binary\n",
              "0        2020-06-21 12:14:25    333497    2.86      M        6               1\n",
              "1        2020-06-21 12:14:33       302   29.84      F        6               1\n",
              "2        2020-06-21 12:14:53     34496   41.28      F        6               1\n",
              "3        2020-06-21 12:15:15     54767   60.05      M        6               1\n",
              "4        2020-06-21 12:15:17      1126    3.19      M        6               1\n",
              "...                      ...       ...     ...    ...      ...             ...\n",
              "555714   2020-12-31 23:59:07       519   43.77      M        3               0\n",
              "555715   2020-12-31 23:59:09     28739  111.84      M        3               0\n",
              "555716   2020-12-31 23:59:15      3684   86.88      F        3               0\n",
              "555717   2020-12-31 23:59:24       129    7.99      M        3               0\n",
              "555718   2020-12-31 23:59:34    116001   38.13      M        3               0\n",
              "\n",
              "[555719 rows x 6 columns]"
            ],
            "text/html": [
              "\n",
              "  <div id=\"df-c0bb6de0-cabc-4f3b-9ca0-36a47d816c2c\">\n",
              "    <div class=\"colab-df-container\">\n",
              "      <div>\n",
              "<style scoped>\n",
              "    .dataframe tbody tr th:only-of-type {\n",
              "        vertical-align: middle;\n",
              "    }\n",
              "\n",
              "    .dataframe tbody tr th {\n",
              "        vertical-align: top;\n",
              "    }\n",
              "\n",
              "    .dataframe thead th {\n",
              "        text-align: right;\n",
              "    }\n",
              "</style>\n",
              "<table border=\"1\" class=\"dataframe\">\n",
              "  <thead>\n",
              "    <tr style=\"text-align: right;\">\n",
              "      <th></th>\n",
              "      <th>trans_date_trans_time</th>\n",
              "      <th>city_pop</th>\n",
              "      <th>amt</th>\n",
              "      <th>gender</th>\n",
              "      <th>Weekday</th>\n",
              "      <th>Weekend_binary</th>\n",
              "    </tr>\n",
              "  </thead>\n",
              "  <tbody>\n",
              "    <tr>\n",
              "      <th>0</th>\n",
              "      <td>2020-06-21 12:14:25</td>\n",
              "      <td>333497</td>\n",
              "      <td>2.86</td>\n",
              "      <td>M</td>\n",
              "      <td>6</td>\n",
              "      <td>1</td>\n",
              "    </tr>\n",
              "    <tr>\n",
              "      <th>1</th>\n",
              "      <td>2020-06-21 12:14:33</td>\n",
              "      <td>302</td>\n",
              "      <td>29.84</td>\n",
              "      <td>F</td>\n",
              "      <td>6</td>\n",
              "      <td>1</td>\n",
              "    </tr>\n",
              "    <tr>\n",
              "      <th>2</th>\n",
              "      <td>2020-06-21 12:14:53</td>\n",
              "      <td>34496</td>\n",
              "      <td>41.28</td>\n",
              "      <td>F</td>\n",
              "      <td>6</td>\n",
              "      <td>1</td>\n",
              "    </tr>\n",
              "    <tr>\n",
              "      <th>3</th>\n",
              "      <td>2020-06-21 12:15:15</td>\n",
              "      <td>54767</td>\n",
              "      <td>60.05</td>\n",
              "      <td>M</td>\n",
              "      <td>6</td>\n",
              "      <td>1</td>\n",
              "    </tr>\n",
              "    <tr>\n",
              "      <th>4</th>\n",
              "      <td>2020-06-21 12:15:17</td>\n",
              "      <td>1126</td>\n",
              "      <td>3.19</td>\n",
              "      <td>M</td>\n",
              "      <td>6</td>\n",
              "      <td>1</td>\n",
              "    </tr>\n",
              "    <tr>\n",
              "      <th>...</th>\n",
              "      <td>...</td>\n",
              "      <td>...</td>\n",
              "      <td>...</td>\n",
              "      <td>...</td>\n",
              "      <td>...</td>\n",
              "      <td>...</td>\n",
              "    </tr>\n",
              "    <tr>\n",
              "      <th>555714</th>\n",
              "      <td>2020-12-31 23:59:07</td>\n",
              "      <td>519</td>\n",
              "      <td>43.77</td>\n",
              "      <td>M</td>\n",
              "      <td>3</td>\n",
              "      <td>0</td>\n",
              "    </tr>\n",
              "    <tr>\n",
              "      <th>555715</th>\n",
              "      <td>2020-12-31 23:59:09</td>\n",
              "      <td>28739</td>\n",
              "      <td>111.84</td>\n",
              "      <td>M</td>\n",
              "      <td>3</td>\n",
              "      <td>0</td>\n",
              "    </tr>\n",
              "    <tr>\n",
              "      <th>555716</th>\n",
              "      <td>2020-12-31 23:59:15</td>\n",
              "      <td>3684</td>\n",
              "      <td>86.88</td>\n",
              "      <td>F</td>\n",
              "      <td>3</td>\n",
              "      <td>0</td>\n",
              "    </tr>\n",
              "    <tr>\n",
              "      <th>555717</th>\n",
              "      <td>2020-12-31 23:59:24</td>\n",
              "      <td>129</td>\n",
              "      <td>7.99</td>\n",
              "      <td>M</td>\n",
              "      <td>3</td>\n",
              "      <td>0</td>\n",
              "    </tr>\n",
              "    <tr>\n",
              "      <th>555718</th>\n",
              "      <td>2020-12-31 23:59:34</td>\n",
              "      <td>116001</td>\n",
              "      <td>38.13</td>\n",
              "      <td>M</td>\n",
              "      <td>3</td>\n",
              "      <td>0</td>\n",
              "    </tr>\n",
              "  </tbody>\n",
              "</table>\n",
              "<p>555719 rows × 6 columns</p>\n",
              "</div>\n",
              "      <button class=\"colab-df-convert\" onclick=\"convertToInteractive('df-c0bb6de0-cabc-4f3b-9ca0-36a47d816c2c')\"\n",
              "              title=\"Convert this dataframe to an interactive table.\"\n",
              "              style=\"display:none;\">\n",
              "        \n",
              "  <svg xmlns=\"http://www.w3.org/2000/svg\" height=\"24px\"viewBox=\"0 0 24 24\"\n",
              "       width=\"24px\">\n",
              "    <path d=\"M0 0h24v24H0V0z\" fill=\"none\"/>\n",
              "    <path d=\"M18.56 5.44l.94 2.06.94-2.06 2.06-.94-2.06-.94-.94-2.06-.94 2.06-2.06.94zm-11 1L8.5 8.5l.94-2.06 2.06-.94-2.06-.94L8.5 2.5l-.94 2.06-2.06.94zm10 10l.94 2.06.94-2.06 2.06-.94-2.06-.94-.94-2.06-.94 2.06-2.06.94z\"/><path d=\"M17.41 7.96l-1.37-1.37c-.4-.4-.92-.59-1.43-.59-.52 0-1.04.2-1.43.59L10.3 9.45l-7.72 7.72c-.78.78-.78 2.05 0 2.83L4 21.41c.39.39.9.59 1.41.59.51 0 1.02-.2 1.41-.59l7.78-7.78 2.81-2.81c.8-.78.8-2.07 0-2.86zM5.41 20L4 18.59l7.72-7.72 1.47 1.35L5.41 20z\"/>\n",
              "  </svg>\n",
              "      </button>\n",
              "      \n",
              "  <style>\n",
              "    .colab-df-container {\n",
              "      display:flex;\n",
              "      flex-wrap:wrap;\n",
              "      gap: 12px;\n",
              "    }\n",
              "\n",
              "    .colab-df-convert {\n",
              "      background-color: #E8F0FE;\n",
              "      border: none;\n",
              "      border-radius: 50%;\n",
              "      cursor: pointer;\n",
              "      display: none;\n",
              "      fill: #1967D2;\n",
              "      height: 32px;\n",
              "      padding: 0 0 0 0;\n",
              "      width: 32px;\n",
              "    }\n",
              "\n",
              "    .colab-df-convert:hover {\n",
              "      background-color: #E2EBFA;\n",
              "      box-shadow: 0px 1px 2px rgba(60, 64, 67, 0.3), 0px 1px 3px 1px rgba(60, 64, 67, 0.15);\n",
              "      fill: #174EA6;\n",
              "    }\n",
              "\n",
              "    [theme=dark] .colab-df-convert {\n",
              "      background-color: #3B4455;\n",
              "      fill: #D2E3FC;\n",
              "    }\n",
              "\n",
              "    [theme=dark] .colab-df-convert:hover {\n",
              "      background-color: #434B5C;\n",
              "      box-shadow: 0px 1px 3px 1px rgba(0, 0, 0, 0.15);\n",
              "      filter: drop-shadow(0px 1px 2px rgba(0, 0, 0, 0.3));\n",
              "      fill: #FFFFFF;\n",
              "    }\n",
              "  </style>\n",
              "\n",
              "      <script>\n",
              "        const buttonEl =\n",
              "          document.querySelector('#df-c0bb6de0-cabc-4f3b-9ca0-36a47d816c2c button.colab-df-convert');\n",
              "        buttonEl.style.display =\n",
              "          google.colab.kernel.accessAllowed ? 'block' : 'none';\n",
              "\n",
              "        async function convertToInteractive(key) {\n",
              "          const element = document.querySelector('#df-c0bb6de0-cabc-4f3b-9ca0-36a47d816c2c');\n",
              "          const dataTable =\n",
              "            await google.colab.kernel.invokeFunction('convertToInteractive',\n",
              "                                                     [key], {});\n",
              "          if (!dataTable) return;\n",
              "\n",
              "          const docLinkHtml = 'Like what you see? Visit the ' +\n",
              "            '<a target=\"_blank\" href=https://colab.research.google.com/notebooks/data_table.ipynb>data table notebook</a>'\n",
              "            + ' to learn more about interactive tables.';\n",
              "          element.innerHTML = '';\n",
              "          dataTable['output_type'] = 'display_data';\n",
              "          await google.colab.output.renderOutput(dataTable, element);\n",
              "          const docLink = document.createElement('div');\n",
              "          docLink.innerHTML = docLinkHtml;\n",
              "          element.appendChild(docLink);\n",
              "        }\n",
              "      </script>\n",
              "    </div>\n",
              "  </div>\n",
              "  "
            ]
          },
          "metadata": {},
          "execution_count": 244
        }
      ],
      "source": [
        "#Creating a binary column for weekend from day of week\n",
        "#We define weekend as Friday, Saturday, Sunday\n",
        "\n",
        "weekend = [4,5,6]\n",
        "weekend_binary = []\n",
        "\n",
        "for i in df_select[\"Weekday\"]:\n",
        "  if i in weekend:\n",
        "    weekend_binary.append(1)\n",
        "  else:\n",
        "    weekend_binary.append(0)\n",
        "df_select['Weekend_binary']= weekend_binary\n",
        "\n",
        "df_select"
      ]
    },
    {
      "cell_type": "code",
      "source": [
        "#creating dummy variable for gender column\n",
        "dummies = pd.get_dummies(df_select[\"gender\"])"
      ],
      "metadata": {
        "id": "SlCGKkPihvtP"
      },
      "execution_count": null,
      "outputs": []
    },
    {
      "cell_type": "code",
      "source": [
        "#Final Set of predictors\n",
        "X = pd.concat([df_select[[\"city_pop\",\"amt\",\"Weekend_binary\"]],dummies], axis =1)\n",
        "X"
      ],
      "metadata": {
        "colab": {
          "base_uri": "https://localhost:8080/",
          "height": 419
        },
        "id": "4IDU-57sn5Qq",
        "outputId": "91547856-1fd7-4353-b56d-b30ea31d07c8"
      },
      "execution_count": null,
      "outputs": [
        {
          "output_type": "execute_result",
          "data": {
            "text/plain": [
              "        city_pop     amt  Weekend_binary  F  M\n",
              "0         333497    2.86               1  0  1\n",
              "1            302   29.84               1  1  0\n",
              "2          34496   41.28               1  1  0\n",
              "3          54767   60.05               1  0  1\n",
              "4           1126    3.19               1  0  1\n",
              "...          ...     ...             ... .. ..\n",
              "555714       519   43.77               0  0  1\n",
              "555715     28739  111.84               0  0  1\n",
              "555716      3684   86.88               0  1  0\n",
              "555717       129    7.99               0  0  1\n",
              "555718    116001   38.13               0  0  1\n",
              "\n",
              "[555719 rows x 5 columns]"
            ],
            "text/html": [
              "\n",
              "  <div id=\"df-e1e52874-c297-45fe-a55d-9bb4ceafe40c\">\n",
              "    <div class=\"colab-df-container\">\n",
              "      <div>\n",
              "<style scoped>\n",
              "    .dataframe tbody tr th:only-of-type {\n",
              "        vertical-align: middle;\n",
              "    }\n",
              "\n",
              "    .dataframe tbody tr th {\n",
              "        vertical-align: top;\n",
              "    }\n",
              "\n",
              "    .dataframe thead th {\n",
              "        text-align: right;\n",
              "    }\n",
              "</style>\n",
              "<table border=\"1\" class=\"dataframe\">\n",
              "  <thead>\n",
              "    <tr style=\"text-align: right;\">\n",
              "      <th></th>\n",
              "      <th>city_pop</th>\n",
              "      <th>amt</th>\n",
              "      <th>Weekend_binary</th>\n",
              "      <th>F</th>\n",
              "      <th>M</th>\n",
              "    </tr>\n",
              "  </thead>\n",
              "  <tbody>\n",
              "    <tr>\n",
              "      <th>0</th>\n",
              "      <td>333497</td>\n",
              "      <td>2.86</td>\n",
              "      <td>1</td>\n",
              "      <td>0</td>\n",
              "      <td>1</td>\n",
              "    </tr>\n",
              "    <tr>\n",
              "      <th>1</th>\n",
              "      <td>302</td>\n",
              "      <td>29.84</td>\n",
              "      <td>1</td>\n",
              "      <td>1</td>\n",
              "      <td>0</td>\n",
              "    </tr>\n",
              "    <tr>\n",
              "      <th>2</th>\n",
              "      <td>34496</td>\n",
              "      <td>41.28</td>\n",
              "      <td>1</td>\n",
              "      <td>1</td>\n",
              "      <td>0</td>\n",
              "    </tr>\n",
              "    <tr>\n",
              "      <th>3</th>\n",
              "      <td>54767</td>\n",
              "      <td>60.05</td>\n",
              "      <td>1</td>\n",
              "      <td>0</td>\n",
              "      <td>1</td>\n",
              "    </tr>\n",
              "    <tr>\n",
              "      <th>4</th>\n",
              "      <td>1126</td>\n",
              "      <td>3.19</td>\n",
              "      <td>1</td>\n",
              "      <td>0</td>\n",
              "      <td>1</td>\n",
              "    </tr>\n",
              "    <tr>\n",
              "      <th>...</th>\n",
              "      <td>...</td>\n",
              "      <td>...</td>\n",
              "      <td>...</td>\n",
              "      <td>...</td>\n",
              "      <td>...</td>\n",
              "    </tr>\n",
              "    <tr>\n",
              "      <th>555714</th>\n",
              "      <td>519</td>\n",
              "      <td>43.77</td>\n",
              "      <td>0</td>\n",
              "      <td>0</td>\n",
              "      <td>1</td>\n",
              "    </tr>\n",
              "    <tr>\n",
              "      <th>555715</th>\n",
              "      <td>28739</td>\n",
              "      <td>111.84</td>\n",
              "      <td>0</td>\n",
              "      <td>0</td>\n",
              "      <td>1</td>\n",
              "    </tr>\n",
              "    <tr>\n",
              "      <th>555716</th>\n",
              "      <td>3684</td>\n",
              "      <td>86.88</td>\n",
              "      <td>0</td>\n",
              "      <td>1</td>\n",
              "      <td>0</td>\n",
              "    </tr>\n",
              "    <tr>\n",
              "      <th>555717</th>\n",
              "      <td>129</td>\n",
              "      <td>7.99</td>\n",
              "      <td>0</td>\n",
              "      <td>0</td>\n",
              "      <td>1</td>\n",
              "    </tr>\n",
              "    <tr>\n",
              "      <th>555718</th>\n",
              "      <td>116001</td>\n",
              "      <td>38.13</td>\n",
              "      <td>0</td>\n",
              "      <td>0</td>\n",
              "      <td>1</td>\n",
              "    </tr>\n",
              "  </tbody>\n",
              "</table>\n",
              "<p>555719 rows × 5 columns</p>\n",
              "</div>\n",
              "      <button class=\"colab-df-convert\" onclick=\"convertToInteractive('df-e1e52874-c297-45fe-a55d-9bb4ceafe40c')\"\n",
              "              title=\"Convert this dataframe to an interactive table.\"\n",
              "              style=\"display:none;\">\n",
              "        \n",
              "  <svg xmlns=\"http://www.w3.org/2000/svg\" height=\"24px\"viewBox=\"0 0 24 24\"\n",
              "       width=\"24px\">\n",
              "    <path d=\"M0 0h24v24H0V0z\" fill=\"none\"/>\n",
              "    <path d=\"M18.56 5.44l.94 2.06.94-2.06 2.06-.94-2.06-.94-.94-2.06-.94 2.06-2.06.94zm-11 1L8.5 8.5l.94-2.06 2.06-.94-2.06-.94L8.5 2.5l-.94 2.06-2.06.94zm10 10l.94 2.06.94-2.06 2.06-.94-2.06-.94-.94-2.06-.94 2.06-2.06.94z\"/><path d=\"M17.41 7.96l-1.37-1.37c-.4-.4-.92-.59-1.43-.59-.52 0-1.04.2-1.43.59L10.3 9.45l-7.72 7.72c-.78.78-.78 2.05 0 2.83L4 21.41c.39.39.9.59 1.41.59.51 0 1.02-.2 1.41-.59l7.78-7.78 2.81-2.81c.8-.78.8-2.07 0-2.86zM5.41 20L4 18.59l7.72-7.72 1.47 1.35L5.41 20z\"/>\n",
              "  </svg>\n",
              "      </button>\n",
              "      \n",
              "  <style>\n",
              "    .colab-df-container {\n",
              "      display:flex;\n",
              "      flex-wrap:wrap;\n",
              "      gap: 12px;\n",
              "    }\n",
              "\n",
              "    .colab-df-convert {\n",
              "      background-color: #E8F0FE;\n",
              "      border: none;\n",
              "      border-radius: 50%;\n",
              "      cursor: pointer;\n",
              "      display: none;\n",
              "      fill: #1967D2;\n",
              "      height: 32px;\n",
              "      padding: 0 0 0 0;\n",
              "      width: 32px;\n",
              "    }\n",
              "\n",
              "    .colab-df-convert:hover {\n",
              "      background-color: #E2EBFA;\n",
              "      box-shadow: 0px 1px 2px rgba(60, 64, 67, 0.3), 0px 1px 3px 1px rgba(60, 64, 67, 0.15);\n",
              "      fill: #174EA6;\n",
              "    }\n",
              "\n",
              "    [theme=dark] .colab-df-convert {\n",
              "      background-color: #3B4455;\n",
              "      fill: #D2E3FC;\n",
              "    }\n",
              "\n",
              "    [theme=dark] .colab-df-convert:hover {\n",
              "      background-color: #434B5C;\n",
              "      box-shadow: 0px 1px 3px 1px rgba(0, 0, 0, 0.15);\n",
              "      filter: drop-shadow(0px 1px 2px rgba(0, 0, 0, 0.3));\n",
              "      fill: #FFFFFF;\n",
              "    }\n",
              "  </style>\n",
              "\n",
              "      <script>\n",
              "        const buttonEl =\n",
              "          document.querySelector('#df-e1e52874-c297-45fe-a55d-9bb4ceafe40c button.colab-df-convert');\n",
              "        buttonEl.style.display =\n",
              "          google.colab.kernel.accessAllowed ? 'block' : 'none';\n",
              "\n",
              "        async function convertToInteractive(key) {\n",
              "          const element = document.querySelector('#df-e1e52874-c297-45fe-a55d-9bb4ceafe40c');\n",
              "          const dataTable =\n",
              "            await google.colab.kernel.invokeFunction('convertToInteractive',\n",
              "                                                     [key], {});\n",
              "          if (!dataTable) return;\n",
              "\n",
              "          const docLinkHtml = 'Like what you see? Visit the ' +\n",
              "            '<a target=\"_blank\" href=https://colab.research.google.com/notebooks/data_table.ipynb>data table notebook</a>'\n",
              "            + ' to learn more about interactive tables.';\n",
              "          element.innerHTML = '';\n",
              "          dataTable['output_type'] = 'display_data';\n",
              "          await google.colab.output.renderOutput(dataTable, element);\n",
              "          const docLink = document.createElement('div');\n",
              "          docLink.innerHTML = docLinkHtml;\n",
              "          element.appendChild(docLink);\n",
              "        }\n",
              "      </script>\n",
              "    </div>\n",
              "  </div>\n",
              "  "
            ]
          },
          "metadata": {},
          "execution_count": 246
        }
      ]
    },
    {
      "cell_type": "markdown",
      "metadata": {
        "id": "bIJx2jvD-KEI"
      },
      
    {
      "cell_type": "markdown",
      "metadata": {
        "id": "PeurmqI4-OoC"
      },
      "source": [
        "# 5.) Train a Logistic regression."
      ]
    },
    {
      "cell_type": "code",
      "execution_count": null,
      "metadata": {
        "id": "DjgQ8BQM99WR",
        "colab": {
          "base_uri": "https://localhost:8080/"
        },
        "outputId": "f2a361a1-6d31-41c7-f7f3-4af2c5875bc3"
      },
      "outputs": [
        {
          "output_type": "execute_result",
          "data": {
            "text/plain": [
              "array([[ 0.81652054, -0.42446311,  1.24383949, -1.10249443,  1.10249443],\n",
              "       [-0.2926852 , -0.25233729,  1.24383949,  0.90703406, -0.90703406],\n",
              "       [-0.17885341, -0.17935288,  1.24383949,  0.90703406, -0.90703406],\n",
              "       ...,\n",
              "       [-0.28142652,  0.11156401, -0.80396225,  0.90703406, -0.90703406],\n",
              "       [-0.29326111, -0.39173496, -0.80396225, -1.10249443,  1.10249443],\n",
              "       [ 0.09247663, -0.19944911, -0.80396225, -1.10249443,  1.10249443]])"
            ]
          },
          "metadata": {},
          "execution_count": 247
        }
      ],
      "source": [
        "#Scaling the data\n",
        "from sklearn.preprocessing import StandardScaler\n",
        "scaler = StandardScaler()\n",
        "X_normalized = scaler.fit_transform(X)\n",
        "X_normalized"
      ]
    },
    {
      "cell_type": "code",
      "source": [
        "#Defining dependent variable \n",
        "y = df['is_fraud']\n",
        "y"
      ],
      "metadata": {
        "colab": {
          "base_uri": "https://localhost:8080/"
        },
        "id": "6RAmwclOpjAN",
        "outputId": "2799a9c5-e5dc-4b02-d018-c998e71cac3d"
      },
      "execution_count": null,
      "outputs": [
        {
          "output_type": "execute_result",
          "data": {
            "text/plain": [
              "0         0\n",
              "1         0\n",
              "2         0\n",
              "3         0\n",
              "4         0\n",
              "         ..\n",
              "555714    0\n",
              "555715    0\n",
              "555716    0\n",
              "555717    0\n",
              "555718    0\n",
              "Name: is_fraud, Length: 555719, dtype: int64"
            ]
          },
          "metadata": {},
          "execution_count": 248
        }
      ]
    },
    {
      "cell_type": "code",
      "execution_count": null,
      "metadata": {
        "id": "IF_H74Ht-RIL"
      },
      "outputs": [],
      "source": [
        "from sklearn.linear_model import LogisticRegression"
      ]
    },
    {
      "cell_type": "code",
      "execution_count": null,
      "metadata": {
        "id": "udwK0byx-RLA"
      },
      "outputs": [],
      "source": [
        "#Fitting the model\n",
        "log_reg = LogisticRegression().fit(X_normalized, y)"
      ]
    },
    {
      "cell_type": "markdown",
      "metadata": {
        "id": "6isBwtmL-R4p"
      },
      "source": [
        "# 6.) The company you are working for wants to target at a False Positive rate of 5% what threshold should you use? (Use oversampled data)"
      ]
    },
    {
      "cell_type": "markdown",
      "source": [
        "The code suggested by ChatGPT outputs a threshold value of 0.004 to get a False Positive rate of 5%"
      ],
      "metadata": {
        "id": "Cjm8FWWXiAuc"
      }
    },
    {
      "cell_type": "code",
      "source": [
        "y_proba = log_reg.predict_proba(X_normalized)[:,1]\n",
        "y_proba"
      ],
      "metadata": {
        "colab": {
          "base_uri": "https://localhost:8080/"
        },
        "id": "e-w0zHwGzUlm",
        "outputId": "772c5167-a273-4926-ebfb-3d8e21f48c7b"
      },
      "execution_count": null,
      "outputs": [
        {
          "output_type": "execute_result",
          "data": {
            "text/plain": [
              "array([0.00308051, 0.00367867, 0.00370709, ..., 0.00338816, 0.00293736,\n",
              "       0.00296805])"
            ]
          },
          "metadata": {},
          "execution_count": 251
        }
      ]
    },
    {
      "cell_type": "code",
      "source": [
        "from sklearn.metrics import roc_curve\n",
        "\n",
        "fpr, tpr, thresholds = roc_curve(y, y_proba)\n",
        "\n",
        "# Find the index of the threshold that corresponds to a false positive rate of 5%\n",
        "fp_index = next(i for i, fpr_i in enumerate(fpr) if fpr_i > 0.05)\n",
        "\n",
        "# Get the threshold value\n",
        "threshold = thresholds[fp_index]\n",
        "\n",
        "print(\"Threshold:\", threshold)"
      ],
      "metadata": {
        "colab": {
          "base_uri": "https://localhost:8080/"
        },
        "id": "ZedL-kBxz6S2",
        "outputId": "0a122d95-5ad4-47b0-e152-d86bc386a282"
      },
      "execution_count": null,
      "outputs": [
        {
          "output_type": "stream",
          "name": "stdout",
          "text": [
            "Threshold: 0.0044538523732313455\n"
          ]
        }
      ]
    },
    {
      "cell_type": "markdown",
      "metadata": {
        "id": "aQa3sanl-XUk"
      },
      "source": [
        "# 7.) If the company makes .02*amt on True transactions and loses -amt on False (Use original data)"
      ]
    },
    {
      "cell_type": "code",
      "source": [
        "#Making predictions using fitted model\n",
        "y_pred = log_reg.predict(X_normalized)"
      ],
      "metadata": {
        "id": "HWQQgG63wDLE"
      },
      "execution_count": null,
      "outputs": []
    },
    {
      "cell_type": "code",
      "source": [
        "from sklearn import metrics"
      ],
      "metadata": {
        "id": "fVlAMTd654qg"
      },
      "execution_count": null,
      "outputs": []
    },
    {
      "cell_type": "code",
      "source": [
        "#Using confusion matrix to get True Positives, True Negatives, False Positives, False Negatives \n",
        "confusion_matrix = metrics.confusion_matrix(y, y_pred)\n",
        "\n",
        "cm_display = metrics.ConfusionMatrixDisplay(confusion_matrix = confusion_matrix, display_labels = ['Not Fraud', 'Fraud'])"
      ],
      "metadata": {
        "id": "eHpqGzSM596n"
      },
      "execution_count": null,
      "outputs": []
    },
    {
      "cell_type": "code",
      "source": [
        "import matplotlib.pyplot as plt"
      ],
      "metadata": {
        "id": "xz4O90xm6S_G"
      },
      "execution_count": null,
      "outputs": []
    },
    {
      "cell_type": "code",
      "source": [
        "cm_display.plot()\n",
        "plt.show()"
      ],
      "metadata": {
        "colab": {
          "base_uri": "https://localhost:8080/",
          "height": 279
        },
        "id": "qZ1C6LEK6XQi",
        "outputId": "3e4deb6f-6d3b-4d66-f113-db744046e09a"
      },
      "execution_count": null,
      "outputs": [
        {
          "output_type": "display_data",
          "data": {
            "text/plain": [
              "<Figure size 432x288 with 2 Axes>"
            ],
            "image/png": "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\n"
          },
          "metadata": {
            "needs_background": "light"
          }
        }
      ]
    },
    {
      "cell_type": "code",
      "execution_count": null,
      "metadata": {
        "id": "G-MUv66T-RZE",
        "colab": {
          "base_uri": "https://localhost:8080/"
        },
        "outputId": "6e2f2b13-29d5-49c2-cd9b-46ec21ab7acd"
      },
      "outputs": [
        {
          "output_type": "execute_result",
          "data": {
            "text/plain": [
              "8923.24"
            ]
          },
          "metadata": {},
          "execution_count": 258
        }
      ],
      "source": [
        "#True transactions = True Negatives (What we correctly predict to be 'not fraud')\n",
        "true = confusion_matrix[0,0]\n",
        "\n",
        "#False transactions = False Negatives(what we incorrectly predict to be 'not fraud')\n",
        "false = confusion_matrix[1,0]\n",
        "\n",
        "net_amt =  0.02*true - false\n",
        "net_amt"
      ]
    },
    {
      "cell_type": "markdown",
      "source": [
        "The company makes $8923.24 using this model"
      ],
      "metadata": {
        "id": "5tsSBlQ6t6fL"
      }
    },
    {
      "cell_type": "markdown",
      "metadata": {
        "id": "qrlSpvEh-awn"
      },
      "source": [
        "# 8.) Using Logistic Regression Lasso to inform you. Would you use the selected features in a trusted prediction model?"
      ]
    },
    {
      "cell_type": "code",
      "execution_count": null,
      "metadata": {
        "id": "-R3BOgcy-RfD"
      },
      "outputs": [],
      "source": [
        "from sklearn.datasets import make_classification\n",
        "\n",
        "log_reg_lasso = LogisticRegression(penalty = \"l1\", solver = 'liblinear')\n",
        "\n",
        "log_reg_lasso.fit(X_normalized, y)\n",
        "\n",
        "y_pred_lasso = log_reg_lasso.predict(X_normalized)"
      ]
    },
    {
      "cell_type": "code",
      "source": [
        "coefficients = log_reg_lasso.coef_\n",
        "coefficients[0]"
      ],
      "metadata": {
        "colab": {
          "base_uri": "https://localhost:8080/"
        },
        "id": "qHPKyQgrRX2z",
        "outputId": "abbb2dcc-2a7a-4e26-fa01-0cc4060fceb3"
      },
      "execution_count": null,
      "outputs": [
        {
          "output_type": "execute_result",
          "data": {
            "text/plain": [
              "array([-0.11471415,  0.28602551,  0.09005205,  0.        ,  0.        ])"
            ]
          },
          "metadata": {},
          "execution_count": 260
        }
      ]
    },
    {
      "cell_type": "code",
      "source": [
        "cols = (X.columns)\n",
        "cols"
      ],
      "metadata": {
        "colab": {
          "base_uri": "https://localhost:8080/"
        },
        "id": "KoNJNEvLWwAl",
        "outputId": "5244c6c3-1604-488a-c27f-b3402344e9a2"
      },
      "execution_count": null,
      "outputs": [
        {
          "output_type": "execute_result",
          "data": {
            "text/plain": [
              "Index(['city_pop', 'amt', 'Weekend_binary', 'F', 'M'], dtype='object')"
            ]
          },
          "metadata": {},
          "execution_count": 261
        }
      ]
    },
    {
      "cell_type": "code",
      "source": [
        "plt.figure(figsize = (6,6))\n",
        "plt.bar(cols, coefficients[0], color = \"rosybrown\")\n",
        "plt.axhline(0, color = \"blue\")\n",
        "plt.xlabel(\"Beta\")\n",
        "plt.ylabel(\"Magnitude\")\n",
        "plt.title(\"Coefficients of Lasso Regression\")"
      ],
      "metadata": {
        "colab": {
          "base_uri": "https://localhost:8080/",
          "height": 422
        },
        "id": "mTFnQ_PzYgI4",
        "outputId": "9f7151a7-a7ff-4641-eabf-210a543b57ce"
      },
      "execution_count": null,
      "outputs": [
        {
          "output_type": "execute_result",
          "data": {
            "text/plain": [
              "Text(0.5, 1.0, 'Coefficients of Lasso Regression')"
            ]
          },
          "metadata": {},
          "execution_count": 262
        },
        {
          "output_type": "display_data",
          "data": {
            "text/plain": [
              "<Figure size 432x432 with 1 Axes>"
            ],
            "image/png": "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\n"
          },
          "metadata": {
            "needs_background": "light"
          }
        }
      ]
    },
    {
      "cell_type": "markdown",
      "source": [
        "Since the Lasso Logistic Regression shrinks the coefficients of the gender dummies(Female and Male) to 0, I would not use these variables to predict credit card fraud since, according to Logistic Lasso, they don't add any valuable information to our model."
      ],
      "metadata": {
        "id": "KSZu_I8XuHwZ"
      }
    }
  ],
  "metadata": {
    "colab": {
      "provenance": []
    },
    "kernelspec": {
      "display_name": "Python 3 (ipykernel)",
      "language": "python",
      "name": "python3"
    },
    "language_info": {
      "codemirror_mode": {
        "name": "ipython",
        "version": 3
      },
      "file_extension": ".py",
      "mimetype": "text/x-python",
      "name": "python",
      "nbconvert_exporter": "python",
      "pygments_lexer": "ipython3",
      "version": "3.9.12"
    }
  },
  "nbformat": 4,
  "nbformat_minor": 0
}
